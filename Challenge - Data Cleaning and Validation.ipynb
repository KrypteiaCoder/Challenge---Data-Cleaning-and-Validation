{
 "cells": [
  {
   "cell_type": "code",
   "execution_count": 1,
   "metadata": {},
   "outputs": [],
   "source": [
    "import numpy as np\n",
    "import pandas as pd\n",
    "import re\n",
    "import scipy\n",
    "from scipy.stats import ttest_ind\n",
    "from scipy.stats import pearsonr\n",
    "import seaborn as sns\n",
    "import matplotlib.pyplot as plt\n",
    "%matplotlib inline"
   ]
  },
  {
   "cell_type": "markdown",
   "metadata": {},
   "source": [
    "### Importing the CSV file into a dataframe and getting an idea of it's content and size"
   ]
  },
  {
   "cell_type": "code",
   "execution_count": 2,
   "metadata": {},
   "outputs": [],
   "source": [
    "articles_df = pd.read_csv('/Users/manueltanguma/Downloads/WELLCOME_APCspend2013_forThinkful_CSV2.csv', encoding='latin-1')"
   ]
  },
  {
   "cell_type": "code",
   "execution_count": 3,
   "metadata": {},
   "outputs": [
    {
     "data": {
      "text/plain": [
       "(2127, 5)"
      ]
     },
     "execution_count": 3,
     "metadata": {},
     "output_type": "execute_result"
    }
   ],
   "source": [
    "articles_df.shape"
   ]
  },
  {
   "cell_type": "code",
   "execution_count": 4,
   "metadata": {},
   "outputs": [
    {
     "data": {
      "text/html": [
       "<div>\n",
       "<style scoped>\n",
       "    .dataframe tbody tr th:only-of-type {\n",
       "        vertical-align: middle;\n",
       "    }\n",
       "\n",
       "    .dataframe tbody tr th {\n",
       "        vertical-align: top;\n",
       "    }\n",
       "\n",
       "    .dataframe thead th {\n",
       "        text-align: right;\n",
       "    }\n",
       "</style>\n",
       "<table border=\"1\" class=\"dataframe\">\n",
       "  <thead>\n",
       "    <tr style=\"text-align: right;\">\n",
       "      <th></th>\n",
       "      <th>PMID/PMCID</th>\n",
       "      <th>Publisher</th>\n",
       "      <th>Journal title</th>\n",
       "      <th>Article title</th>\n",
       "      <th>COST (Â£) charged to Wellcome (inc VAT when charged)</th>\n",
       "    </tr>\n",
       "  </thead>\n",
       "  <tbody>\n",
       "    <tr>\n",
       "      <th>0</th>\n",
       "      <td>NaN</td>\n",
       "      <td>CUP</td>\n",
       "      <td>Psychological Medicine</td>\n",
       "      <td>Reduced parahippocampal cortical thickness in ...</td>\n",
       "      <td>Â£0.00</td>\n",
       "    </tr>\n",
       "    <tr>\n",
       "      <th>1</th>\n",
       "      <td>PMC3679557</td>\n",
       "      <td>ACS</td>\n",
       "      <td>Biomacromolecules</td>\n",
       "      <td>Structural characterization of a Model Gram-ne...</td>\n",
       "      <td>Â£2381.04</td>\n",
       "    </tr>\n",
       "    <tr>\n",
       "      <th>2</th>\n",
       "      <td>23043264  PMC3506128</td>\n",
       "      <td>ACS</td>\n",
       "      <td>J Med Chem</td>\n",
       "      <td>Fumaroylamino-4,5-epoxymorphinans and related ...</td>\n",
       "      <td>Â£642.56</td>\n",
       "    </tr>\n",
       "    <tr>\n",
       "      <th>3</th>\n",
       "      <td>23438330 PMC3646402</td>\n",
       "      <td>ACS</td>\n",
       "      <td>J Med Chem</td>\n",
       "      <td>Orvinols with mixed kappa/mu opioid receptor a...</td>\n",
       "      <td>Â£669.64</td>\n",
       "    </tr>\n",
       "    <tr>\n",
       "      <th>4</th>\n",
       "      <td>23438216 PMC3601604</td>\n",
       "      <td>ACS</td>\n",
       "      <td>J Org Chem</td>\n",
       "      <td>Regioselective opening of myo-inositol orthoes...</td>\n",
       "      <td>Â£685.88</td>\n",
       "    </tr>\n",
       "  </tbody>\n",
       "</table>\n",
       "</div>"
      ],
      "text/plain": [
       "             PMID/PMCID Publisher           Journal title  \\\n",
       "0                   NaN       CUP  Psychological Medicine   \n",
       "1            PMC3679557       ACS       Biomacromolecules   \n",
       "2  23043264  PMC3506128       ACS              J Med Chem   \n",
       "3   23438330 PMC3646402       ACS              J Med Chem   \n",
       "4   23438216 PMC3601604       ACS              J Org Chem   \n",
       "\n",
       "                                       Article title  \\\n",
       "0  Reduced parahippocampal cortical thickness in ...   \n",
       "1  Structural characterization of a Model Gram-ne...   \n",
       "2  Fumaroylamino-4,5-epoxymorphinans and related ...   \n",
       "3  Orvinols with mixed kappa/mu opioid receptor a...   \n",
       "4  Regioselective opening of myo-inositol orthoes...   \n",
       "\n",
       "  COST (Â£) charged to Wellcome (inc VAT when charged)  \n",
       "0                                             Â£0.00    \n",
       "1                                          Â£2381.04    \n",
       "2                                           Â£642.56    \n",
       "3                                           Â£669.64    \n",
       "4                                           Â£685.88    "
      ]
     },
     "execution_count": 4,
     "metadata": {},
     "output_type": "execute_result"
    }
   ],
   "source": [
    "articles_df.head(5)"
   ]
  },
  {
   "cell_type": "code",
   "execution_count": 5,
   "metadata": {},
   "outputs": [
    {
     "data": {
      "text/html": [
       "<div>\n",
       "<style scoped>\n",
       "    .dataframe tbody tr th:only-of-type {\n",
       "        vertical-align: middle;\n",
       "    }\n",
       "\n",
       "    .dataframe tbody tr th {\n",
       "        vertical-align: top;\n",
       "    }\n",
       "\n",
       "    .dataframe thead th {\n",
       "        text-align: right;\n",
       "    }\n",
       "</style>\n",
       "<table border=\"1\" class=\"dataframe\">\n",
       "  <thead>\n",
       "    <tr style=\"text-align: right;\">\n",
       "      <th></th>\n",
       "      <th>PMID/PMCID</th>\n",
       "      <th>Publisher</th>\n",
       "      <th>Journal title</th>\n",
       "      <th>Article title</th>\n",
       "      <th>COST (Â£) charged to Wellcome (inc VAT when charged)</th>\n",
       "    </tr>\n",
       "  </thead>\n",
       "  <tbody>\n",
       "    <tr>\n",
       "      <th>2122</th>\n",
       "      <td>2901593</td>\n",
       "      <td>Wolters Kluwer Health</td>\n",
       "      <td>Circulation Research</td>\n",
       "      <td>Mechanistic Links Between Na+ Channel (SCN5A) ...</td>\n",
       "      <td>Â£1334.15</td>\n",
       "    </tr>\n",
       "    <tr>\n",
       "      <th>2123</th>\n",
       "      <td>3748854</td>\n",
       "      <td>Wolters Kluwer Health</td>\n",
       "      <td>AIDS</td>\n",
       "      <td>Evaluation of an empiric risk screening score ...</td>\n",
       "      <td>Â£1834.77</td>\n",
       "    </tr>\n",
       "    <tr>\n",
       "      <th>2124</th>\n",
       "      <td>3785148</td>\n",
       "      <td>Wolters Kluwer Health</td>\n",
       "      <td>Pediatr Infect Dis J</td>\n",
       "      <td>Topical umbilical cord care for prevention of ...</td>\n",
       "      <td>Â£1834.77</td>\n",
       "    </tr>\n",
       "    <tr>\n",
       "      <th>2125</th>\n",
       "      <td>PMCID:\\n    PMC3647051</td>\n",
       "      <td>Wolters Kluwer N.V./Lippinott</td>\n",
       "      <td>AIDS</td>\n",
       "      <td>Grassroots Community Organisations' Contributi...</td>\n",
       "      <td>Â£2374.52</td>\n",
       "    </tr>\n",
       "    <tr>\n",
       "      <th>2126</th>\n",
       "      <td>PMID: 23846567  (Epub July 2013)</td>\n",
       "      <td>Wolters Kluwers</td>\n",
       "      <td>Journal of Acquired Immune Deficiency Syndromes</td>\n",
       "      <td>A novel community health worker tool outperfor...</td>\n",
       "      <td>Â£2034.75</td>\n",
       "    </tr>\n",
       "  </tbody>\n",
       "</table>\n",
       "</div>"
      ],
      "text/plain": [
       "                            PMID/PMCID                      Publisher  \\\n",
       "2122                           2901593          Wolters Kluwer Health   \n",
       "2123                           3748854         Wolters Kluwer Health    \n",
       "2124                           3785148         Wolters Kluwer Health    \n",
       "2125            PMCID:\\n    PMC3647051  Wolters Kluwer N.V./Lippinott   \n",
       "2126  PMID: 23846567  (Epub July 2013)                Wolters Kluwers   \n",
       "\n",
       "                                        Journal title  \\\n",
       "2122                             Circulation Research   \n",
       "2123                                             AIDS   \n",
       "2124                             Pediatr Infect Dis J   \n",
       "2125                                             AIDS   \n",
       "2126  Journal of Acquired Immune Deficiency Syndromes   \n",
       "\n",
       "                                          Article title  \\\n",
       "2122  Mechanistic Links Between Na+ Channel (SCN5A) ...   \n",
       "2123  Evaluation of an empiric risk screening score ...   \n",
       "2124  Topical umbilical cord care for prevention of ...   \n",
       "2125  Grassroots Community Organisations' Contributi...   \n",
       "2126  A novel community health worker tool outperfor...   \n",
       "\n",
       "     COST (Â£) charged to Wellcome (inc VAT when charged)  \n",
       "2122                                          Â£1334.15    \n",
       "2123                                          Â£1834.77    \n",
       "2124                                          Â£1834.77    \n",
       "2125                                          Â£2374.52    \n",
       "2126                                          Â£2034.75    "
      ]
     },
     "execution_count": 5,
     "metadata": {},
     "output_type": "execute_result"
    }
   ],
   "source": [
    "articles_df.tail(5)"
   ]
  },
  {
   "cell_type": "code",
   "execution_count": 6,
   "metadata": {},
   "outputs": [
    {
     "name": "stdout",
     "output_type": "stream",
     "text": [
      "<class 'pandas.core.frame.DataFrame'>\n",
      "RangeIndex: 2127 entries, 0 to 2126\n",
      "Data columns (total 5 columns):\n",
      "PMID/PMCID                                              1928 non-null object\n",
      "Publisher                                               2127 non-null object\n",
      "Journal title                                           2126 non-null object\n",
      "Article title                                           2127 non-null object\n",
      "COST (Â£) charged to Wellcome (inc VAT when charged)    2127 non-null object\n",
      "dtypes: object(5)\n",
      "memory usage: 83.2+ KB\n"
     ]
    }
   ],
   "source": [
    "articles_df.info()"
   ]
  },
  {
   "cell_type": "markdown",
   "metadata": {},
   "source": [
    "### Determine the five most common journals and the total articles for each. Next, calculate the mean, median, and standard deviation of the open-access cost per article for each journal . You will need to do considerable data cleaning in order to extract accurate estimates, and may want to look into data encoding methods if you get stuck. For a real bonus round, identify the open access prices paid by subject area."
   ]
  },
  {
   "cell_type": "code",
   "execution_count": 7,
   "metadata": {},
   "outputs": [
    {
     "data": {
      "text/html": [
       "<div>\n",
       "<style scoped>\n",
       "    .dataframe tbody tr th:only-of-type {\n",
       "        vertical-align: middle;\n",
       "    }\n",
       "\n",
       "    .dataframe tbody tr th {\n",
       "        vertical-align: top;\n",
       "    }\n",
       "\n",
       "    .dataframe thead th {\n",
       "        text-align: right;\n",
       "    }\n",
       "</style>\n",
       "<table border=\"1\" class=\"dataframe\">\n",
       "  <thead>\n",
       "    <tr style=\"text-align: right;\">\n",
       "      <th></th>\n",
       "      <th>PMID/PMCID</th>\n",
       "      <th>Publisher</th>\n",
       "      <th>Journal title</th>\n",
       "      <th>Article title</th>\n",
       "      <th>COST (Â£) charged to Wellcome (inc VAT when charged)</th>\n",
       "    </tr>\n",
       "  </thead>\n",
       "  <tbody>\n",
       "    <tr>\n",
       "      <th>0</th>\n",
       "      <td>NaN</td>\n",
       "      <td>CUP</td>\n",
       "      <td>Psychological Medicine</td>\n",
       "      <td>Reduced parahippocampal cortical thickness in ...</td>\n",
       "      <td>Â£0.00</td>\n",
       "    </tr>\n",
       "    <tr>\n",
       "      <th>1</th>\n",
       "      <td>PMC3679557</td>\n",
       "      <td>ACS</td>\n",
       "      <td>Biomacromolecules</td>\n",
       "      <td>Structural characterization of a Model Gram-ne...</td>\n",
       "      <td>Â£2381.04</td>\n",
       "    </tr>\n",
       "    <tr>\n",
       "      <th>2</th>\n",
       "      <td>23043264  PMC3506128</td>\n",
       "      <td>ACS</td>\n",
       "      <td>J Med Chem</td>\n",
       "      <td>Fumaroylamino-4,5-epoxymorphinans and related ...</td>\n",
       "      <td>Â£642.56</td>\n",
       "    </tr>\n",
       "    <tr>\n",
       "      <th>3</th>\n",
       "      <td>23438330 PMC3646402</td>\n",
       "      <td>ACS</td>\n",
       "      <td>J Med Chem</td>\n",
       "      <td>Orvinols with mixed kappa/mu opioid receptor a...</td>\n",
       "      <td>Â£669.64</td>\n",
       "    </tr>\n",
       "    <tr>\n",
       "      <th>4</th>\n",
       "      <td>23438216 PMC3601604</td>\n",
       "      <td>ACS</td>\n",
       "      <td>J Org Chem</td>\n",
       "      <td>Regioselective opening of myo-inositol orthoes...</td>\n",
       "      <td>Â£685.88</td>\n",
       "    </tr>\n",
       "    <tr>\n",
       "      <th>5</th>\n",
       "      <td>PMC3579457</td>\n",
       "      <td>ACS</td>\n",
       "      <td>Journal of Medicinal Chemistry</td>\n",
       "      <td>Comparative Structural and Functional Studies ...</td>\n",
       "      <td>Â£2392.20</td>\n",
       "    </tr>\n",
       "    <tr>\n",
       "      <th>6</th>\n",
       "      <td>PMC3709265</td>\n",
       "      <td>ACS</td>\n",
       "      <td>Journal of Proteome Research</td>\n",
       "      <td>Mapping Proteolytic Processing in the Secretom...</td>\n",
       "      <td>Â£2367.95</td>\n",
       "    </tr>\n",
       "    <tr>\n",
       "      <th>7</th>\n",
       "      <td>23057412 PMC3495574</td>\n",
       "      <td>ACS</td>\n",
       "      <td>Mol Pharm</td>\n",
       "      <td>Quantitative silencing of EGFP reporter gene b...</td>\n",
       "      <td>Â£649.33</td>\n",
       "    </tr>\n",
       "    <tr>\n",
       "      <th>8</th>\n",
       "      <td>PMCID: PMC3780468</td>\n",
       "      <td>ACS (Amercian Chemical Society) Publications</td>\n",
       "      <td>ACS Chemical Biology</td>\n",
       "      <td>A Novel Allosteric Inhibitor of the Uridine Di...</td>\n",
       "      <td>Â£1294.59</td>\n",
       "    </tr>\n",
       "    <tr>\n",
       "      <th>9</th>\n",
       "      <td>PMCID: PMC3621575</td>\n",
       "      <td>ACS (Amercian Chemical Society) Publications</td>\n",
       "      <td>ACS Chemical Biology</td>\n",
       "      <td>Chemical proteomic analysis reveals the drugab...</td>\n",
       "      <td>Â£1294.78</td>\n",
       "    </tr>\n",
       "  </tbody>\n",
       "</table>\n",
       "</div>"
      ],
      "text/plain": [
       "             PMID/PMCID                                     Publisher  \\\n",
       "0                   NaN                                           CUP   \n",
       "1            PMC3679557                                           ACS   \n",
       "2  23043264  PMC3506128                                           ACS   \n",
       "3   23438330 PMC3646402                                           ACS   \n",
       "4   23438216 PMC3601604                                           ACS   \n",
       "5            PMC3579457                                           ACS   \n",
       "6            PMC3709265                                           ACS   \n",
       "7   23057412 PMC3495574                                           ACS   \n",
       "8     PMCID: PMC3780468  ACS (Amercian Chemical Society) Publications   \n",
       "9     PMCID: PMC3621575  ACS (Amercian Chemical Society) Publications   \n",
       "\n",
       "                    Journal title  \\\n",
       "0          Psychological Medicine   \n",
       "1               Biomacromolecules   \n",
       "2                      J Med Chem   \n",
       "3                      J Med Chem   \n",
       "4                      J Org Chem   \n",
       "5  Journal of Medicinal Chemistry   \n",
       "6    Journal of Proteome Research   \n",
       "7                       Mol Pharm   \n",
       "8            ACS Chemical Biology   \n",
       "9            ACS Chemical Biology   \n",
       "\n",
       "                                       Article title  \\\n",
       "0  Reduced parahippocampal cortical thickness in ...   \n",
       "1  Structural characterization of a Model Gram-ne...   \n",
       "2  Fumaroylamino-4,5-epoxymorphinans and related ...   \n",
       "3  Orvinols with mixed kappa/mu opioid receptor a...   \n",
       "4  Regioselective opening of myo-inositol orthoes...   \n",
       "5  Comparative Structural and Functional Studies ...   \n",
       "6  Mapping Proteolytic Processing in the Secretom...   \n",
       "7  Quantitative silencing of EGFP reporter gene b...   \n",
       "8  A Novel Allosteric Inhibitor of the Uridine Di...   \n",
       "9  Chemical proteomic analysis reveals the drugab...   \n",
       "\n",
       "  COST (Â£) charged to Wellcome (inc VAT when charged)  \n",
       "0                                             Â£0.00    \n",
       "1                                          Â£2381.04    \n",
       "2                                           Â£642.56    \n",
       "3                                           Â£669.64    \n",
       "4                                           Â£685.88    \n",
       "5                                          Â£2392.20    \n",
       "6                                          Â£2367.95    \n",
       "7                                           Â£649.33    \n",
       "8                                          Â£1294.59    \n",
       "9                                          Â£1294.78    "
      ]
     },
     "execution_count": 7,
     "metadata": {},
     "output_type": "execute_result"
    }
   ],
   "source": [
    "articles_df.head(10)"
   ]
  },
  {
   "cell_type": "markdown",
   "metadata": {},
   "source": [
    "### Determining the 5 most common journals and the total articles for each.  Converting the journal title's to lowercase and then will use the groupby function.  Ultimately mean, median, and std will be determined."
   ]
  },
  {
   "cell_type": "code",
   "execution_count": 8,
   "metadata": {},
   "outputs": [],
   "source": [
    "articles_df['Journal title'] = articles_df['Journal title'].apply(lambda x: str(x).lower())"
   ]
  },
  {
   "cell_type": "code",
   "execution_count": 9,
   "metadata": {},
   "outputs": [],
   "source": [
    "temp = articles_df['Journal title'].value_counts()[:5]"
   ]
  },
  {
   "cell_type": "code",
   "execution_count": 10,
   "metadata": {},
   "outputs": [
    {
     "data": {
      "text/plain": [
       "pandas.core.series.Series"
      ]
     },
     "execution_count": 10,
     "metadata": {},
     "output_type": "execute_result"
    }
   ],
   "source": [
    "type(temp)"
   ]
  },
  {
   "cell_type": "code",
   "execution_count": 11,
   "metadata": {},
   "outputs": [],
   "source": [
    "topfivelist = list(temp.index)"
   ]
  },
  {
   "cell_type": "code",
   "execution_count": 12,
   "metadata": {},
   "outputs": [
    {
     "data": {
      "text/plain": [
       "['plos one',\n",
       " 'journal of biological chemistry',\n",
       " 'neuroimage',\n",
       " 'plos pathogens',\n",
       " 'plos genetics']"
      ]
     },
     "execution_count": 12,
     "metadata": {},
     "output_type": "execute_result"
    }
   ],
   "source": [
    "topfivelist"
   ]
  },
  {
   "cell_type": "code",
   "execution_count": 13,
   "metadata": {},
   "outputs": [],
   "source": [
    "topfive_df = articles_df[articles_df['Journal title'].isin(topfivelist)]"
   ]
  },
  {
   "cell_type": "code",
   "execution_count": 14,
   "metadata": {},
   "outputs": [
    {
     "data": {
      "text/plain": [
       "plos one                           190\n",
       "journal of biological chemistry     53\n",
       "neuroimage                          29\n",
       "plos genetics                       24\n",
       "plos pathogens                      24\n",
       "Name: Journal title, dtype: int64"
      ]
     },
     "execution_count": 14,
     "metadata": {},
     "output_type": "execute_result"
    }
   ],
   "source": [
    "topfive_df['Journal title'].value_counts()"
   ]
  },
  {
   "cell_type": "code",
   "execution_count": 15,
   "metadata": {},
   "outputs": [
    {
     "name": "stdout",
     "output_type": "stream",
     "text": [
      "<class 'pandas.core.frame.DataFrame'>\n",
      "Int64Index: 320 entries, 16 to 1604\n",
      "Data columns (total 5 columns):\n",
      "PMID/PMCID                                              315 non-null object\n",
      "Publisher                                               320 non-null object\n",
      "Journal title                                           320 non-null object\n",
      "Article title                                           320 non-null object\n",
      "COST (Â£) charged to Wellcome (inc VAT when charged)    320 non-null object\n",
      "dtypes: object(5)\n",
      "memory usage: 15.0+ KB\n"
     ]
    }
   ],
   "source": [
    "topfive_df.info()"
   ]
  },
  {
   "cell_type": "code",
   "execution_count": 16,
   "metadata": {},
   "outputs": [],
   "source": [
    "templist = list(topfive_df.columns)"
   ]
  },
  {
   "cell_type": "code",
   "execution_count": 17,
   "metadata": {},
   "outputs": [
    {
     "data": {
      "text/plain": [
       "['PMID/PMCID',\n",
       " 'Publisher',\n",
       " 'Journal title',\n",
       " 'Article title',\n",
       " 'COST (Â£) charged to Wellcome (inc VAT when charged)']"
      ]
     },
     "execution_count": 17,
     "metadata": {},
     "output_type": "execute_result"
    }
   ],
   "source": [
    "templist"
   ]
  },
  {
   "cell_type": "code",
   "execution_count": 18,
   "metadata": {},
   "outputs": [],
   "source": [
    "templist[4]='Cost'"
   ]
  },
  {
   "cell_type": "code",
   "execution_count": 19,
   "metadata": {},
   "outputs": [],
   "source": [
    "topfive_df.columns = templist"
   ]
  },
  {
   "cell_type": "code",
   "execution_count": 20,
   "metadata": {},
   "outputs": [
    {
     "name": "stdout",
     "output_type": "stream",
     "text": [
      "<class 'pandas.core.frame.DataFrame'>\n",
      "Int64Index: 320 entries, 16 to 1604\n",
      "Data columns (total 5 columns):\n",
      "PMID/PMCID       315 non-null object\n",
      "Publisher        320 non-null object\n",
      "Journal title    320 non-null object\n",
      "Article title    320 non-null object\n",
      "Cost             320 non-null object\n",
      "dtypes: object(5)\n",
      "memory usage: 15.0+ KB\n"
     ]
    }
   ],
   "source": [
    "topfive_df.info()"
   ]
  },
  {
   "cell_type": "code",
   "execution_count": 21,
   "metadata": {},
   "outputs": [
    {
     "data": {
      "text/html": [
       "<div>\n",
       "<style scoped>\n",
       "    .dataframe tbody tr th:only-of-type {\n",
       "        vertical-align: middle;\n",
       "    }\n",
       "\n",
       "    .dataframe tbody tr th {\n",
       "        vertical-align: top;\n",
       "    }\n",
       "\n",
       "    .dataframe thead th {\n",
       "        text-align: right;\n",
       "    }\n",
       "</style>\n",
       "<table border=\"1\" class=\"dataframe\">\n",
       "  <thead>\n",
       "    <tr style=\"text-align: right;\">\n",
       "      <th></th>\n",
       "      <th>PMID/PMCID</th>\n",
       "      <th>Publisher</th>\n",
       "      <th>Journal title</th>\n",
       "      <th>Article title</th>\n",
       "      <th>Cost</th>\n",
       "    </tr>\n",
       "  </thead>\n",
       "  <tbody>\n",
       "    <tr>\n",
       "      <th>16</th>\n",
       "      <td>22610094</td>\n",
       "      <td>AMBSB</td>\n",
       "      <td>journal of biological chemistry</td>\n",
       "      <td>Annexin-1 interaction with FPR2/ALX</td>\n",
       "      <td>Â£265.67</td>\n",
       "    </tr>\n",
       "    <tr>\n",
       "      <th>60</th>\n",
       "      <td>PMC3576085</td>\n",
       "      <td>American Soc for Biochemistry and Molecular Bi...</td>\n",
       "      <td>journal of biological chemistry</td>\n",
       "      <td>Understanding how noncatalytic carbohydrate bi...</td>\n",
       "      <td>Â£1100.00</td>\n",
       "    </tr>\n",
       "    <tr>\n",
       "      <th>61</th>\n",
       "      <td>23239883 PMC3561570</td>\n",
       "      <td>American Society for Biochemistry and Molecula...</td>\n",
       "      <td>journal of biological chemistry</td>\n",
       "      <td>Molecular architecture and functional analysis...</td>\n",
       "      <td>Â£2259.64</td>\n",
       "    </tr>\n",
       "    <tr>\n",
       "      <th>64</th>\n",
       "      <td>PMCID: PMC3642348</td>\n",
       "      <td>American Society for Biochemistry and Molecula...</td>\n",
       "      <td>journal of biological chemistry</td>\n",
       "      <td>Human and viral golgi anti-apoptotic protein (...</td>\n",
       "      <td>Â£1019.71</td>\n",
       "    </tr>\n",
       "    <tr>\n",
       "      <th>65</th>\n",
       "      <td>PMID: 22992744  PMC3493908</td>\n",
       "      <td>American Society for Biochemistry and Molecula...</td>\n",
       "      <td>journal of biological chemistry</td>\n",
       "      <td>Dynamic exchange of myosin VI on endocytic str...</td>\n",
       "      <td>Â£1119.61</td>\n",
       "    </tr>\n",
       "  </tbody>\n",
       "</table>\n",
       "</div>"
      ],
      "text/plain": [
       "                    PMID/PMCID  \\\n",
       "16                    22610094   \n",
       "60                  PMC3576085   \n",
       "61         23239883 PMC3561570   \n",
       "64           PMCID: PMC3642348   \n",
       "65  PMID: 22992744  PMC3493908   \n",
       "\n",
       "                                            Publisher  \\\n",
       "16                                              AMBSB   \n",
       "60  American Soc for Biochemistry and Molecular Bi...   \n",
       "61  American Society for Biochemistry and Molecula...   \n",
       "64  American Society for Biochemistry and Molecula...   \n",
       "65  American Society for Biochemistry and Molecula...   \n",
       "\n",
       "                      Journal title  \\\n",
       "16  journal of biological chemistry   \n",
       "60  journal of biological chemistry   \n",
       "61  journal of biological chemistry   \n",
       "64  journal of biological chemistry   \n",
       "65  journal of biological chemistry   \n",
       "\n",
       "                                        Article title       Cost  \n",
       "16                Annexin-1 interaction with FPR2/ALX   Â£265.67  \n",
       "60  Understanding how noncatalytic carbohydrate bi...  Â£1100.00  \n",
       "61  Molecular architecture and functional analysis...  Â£2259.64  \n",
       "64  Human and viral golgi anti-apoptotic protein (...  Â£1019.71  \n",
       "65  Dynamic exchange of myosin VI on endocytic str...  Â£1119.61  "
      ]
     },
     "execution_count": 21,
     "metadata": {},
     "output_type": "execute_result"
    }
   ],
   "source": [
    "topfive_df.head(5)"
   ]
  },
  {
   "cell_type": "code",
   "execution_count": 22,
   "metadata": {},
   "outputs": [
    {
     "name": "stderr",
     "output_type": "stream",
     "text": [
      "/anaconda3/lib/python3.6/site-packages/ipykernel_launcher.py:1: SettingWithCopyWarning: \n",
      "A value is trying to be set on a copy of a slice from a DataFrame.\n",
      "Try using .loc[row_indexer,col_indexer] = value instead\n",
      "\n",
      "See the caveats in the documentation: http://pandas.pydata.org/pandas-docs/stable/indexing.html#indexing-view-versus-copy\n",
      "  \"\"\"Entry point for launching an IPython kernel.\n"
     ]
    }
   ],
   "source": [
    "topfive_df['Cost'] = topfive_df['Cost'].str.split('£', expand=True)[1]"
   ]
  },
  {
   "cell_type": "code",
   "execution_count": 23,
   "metadata": {},
   "outputs": [
    {
     "data": {
      "text/html": [
       "<div>\n",
       "<style scoped>\n",
       "    .dataframe tbody tr th:only-of-type {\n",
       "        vertical-align: middle;\n",
       "    }\n",
       "\n",
       "    .dataframe tbody tr th {\n",
       "        vertical-align: top;\n",
       "    }\n",
       "\n",
       "    .dataframe thead th {\n",
       "        text-align: right;\n",
       "    }\n",
       "</style>\n",
       "<table border=\"1\" class=\"dataframe\">\n",
       "  <thead>\n",
       "    <tr style=\"text-align: right;\">\n",
       "      <th></th>\n",
       "      <th>PMID/PMCID</th>\n",
       "      <th>Publisher</th>\n",
       "      <th>Journal title</th>\n",
       "      <th>Article title</th>\n",
       "      <th>Cost</th>\n",
       "    </tr>\n",
       "  </thead>\n",
       "  <tbody>\n",
       "    <tr>\n",
       "      <th>16</th>\n",
       "      <td>22610094</td>\n",
       "      <td>AMBSB</td>\n",
       "      <td>journal of biological chemistry</td>\n",
       "      <td>Annexin-1 interaction with FPR2/ALX</td>\n",
       "      <td>265.67</td>\n",
       "    </tr>\n",
       "    <tr>\n",
       "      <th>60</th>\n",
       "      <td>PMC3576085</td>\n",
       "      <td>American Soc for Biochemistry and Molecular Bi...</td>\n",
       "      <td>journal of biological chemistry</td>\n",
       "      <td>Understanding how noncatalytic carbohydrate bi...</td>\n",
       "      <td>1100.00</td>\n",
       "    </tr>\n",
       "    <tr>\n",
       "      <th>61</th>\n",
       "      <td>23239883 PMC3561570</td>\n",
       "      <td>American Society for Biochemistry and Molecula...</td>\n",
       "      <td>journal of biological chemistry</td>\n",
       "      <td>Molecular architecture and functional analysis...</td>\n",
       "      <td>2259.64</td>\n",
       "    </tr>\n",
       "    <tr>\n",
       "      <th>64</th>\n",
       "      <td>PMCID: PMC3642348</td>\n",
       "      <td>American Society for Biochemistry and Molecula...</td>\n",
       "      <td>journal of biological chemistry</td>\n",
       "      <td>Human and viral golgi anti-apoptotic protein (...</td>\n",
       "      <td>1019.71</td>\n",
       "    </tr>\n",
       "    <tr>\n",
       "      <th>65</th>\n",
       "      <td>PMID: 22992744  PMC3493908</td>\n",
       "      <td>American Society for Biochemistry and Molecula...</td>\n",
       "      <td>journal of biological chemistry</td>\n",
       "      <td>Dynamic exchange of myosin VI on endocytic str...</td>\n",
       "      <td>1119.61</td>\n",
       "    </tr>\n",
       "  </tbody>\n",
       "</table>\n",
       "</div>"
      ],
      "text/plain": [
       "                    PMID/PMCID  \\\n",
       "16                    22610094   \n",
       "60                  PMC3576085   \n",
       "61         23239883 PMC3561570   \n",
       "64           PMCID: PMC3642348   \n",
       "65  PMID: 22992744  PMC3493908   \n",
       "\n",
       "                                            Publisher  \\\n",
       "16                                              AMBSB   \n",
       "60  American Soc for Biochemistry and Molecular Bi...   \n",
       "61  American Society for Biochemistry and Molecula...   \n",
       "64  American Society for Biochemistry and Molecula...   \n",
       "65  American Society for Biochemistry and Molecula...   \n",
       "\n",
       "                      Journal title  \\\n",
       "16  journal of biological chemistry   \n",
       "60  journal of biological chemistry   \n",
       "61  journal of biological chemistry   \n",
       "64  journal of biological chemistry   \n",
       "65  journal of biological chemistry   \n",
       "\n",
       "                                        Article title     Cost  \n",
       "16                Annexin-1 interaction with FPR2/ALX   265.67  \n",
       "60  Understanding how noncatalytic carbohydrate bi...  1100.00  \n",
       "61  Molecular architecture and functional analysis...  2259.64  \n",
       "64  Human and viral golgi anti-apoptotic protein (...  1019.71  \n",
       "65  Dynamic exchange of myosin VI on endocytic str...  1119.61  "
      ]
     },
     "execution_count": 23,
     "metadata": {},
     "output_type": "execute_result"
    }
   ],
   "source": [
    "topfive_df.head(5)"
   ]
  },
  {
   "cell_type": "code",
   "execution_count": 24,
   "metadata": {},
   "outputs": [
    {
     "data": {
      "text/plain": [
       "<pandas.core.groupby.groupby.DataFrameGroupBy object at 0x10e266e10>"
      ]
     },
     "execution_count": 24,
     "metadata": {},
     "output_type": "execute_result"
    }
   ],
   "source": [
    "topfive_df.groupby('Journal title', sort=True)"
   ]
  },
  {
   "cell_type": "code",
   "execution_count": 25,
   "metadata": {},
   "outputs": [
    {
     "name": "stderr",
     "output_type": "stream",
     "text": [
      "/anaconda3/lib/python3.6/site-packages/ipykernel_launcher.py:1: SettingWithCopyWarning: \n",
      "A value is trying to be set on a copy of a slice from a DataFrame.\n",
      "Try using .loc[row_indexer,col_indexer] = value instead\n",
      "\n",
      "See the caveats in the documentation: http://pandas.pydata.org/pandas-docs/stable/indexing.html#indexing-view-versus-copy\n",
      "  \"\"\"Entry point for launching an IPython kernel.\n"
     ]
    }
   ],
   "source": [
    "topfive_df['Cost'] = pd.to_numeric(topfive_df['Cost'])"
   ]
  },
  {
   "cell_type": "code",
   "execution_count": 26,
   "metadata": {},
   "outputs": [
    {
     "data": {
      "text/plain": [
       "Journal title\n",
       "journal of biological chemistry     20264.633962\n",
       "neuroimage                           2215.168276\n",
       "plos genetics                       84839.435000\n",
       "plos one                            38751.291368\n",
       "plos pathogens                     112525.162778\n",
       "Name: Cost, dtype: float64"
      ]
     },
     "execution_count": 26,
     "metadata": {},
     "output_type": "execute_result"
    }
   ],
   "source": [
    "topfive_df.groupby(['Journal title'])['Cost'].mean()"
   ]
  },
  {
   "cell_type": "code",
   "execution_count": 28,
   "metadata": {},
   "outputs": [
    {
     "data": {
      "text/plain": [
       "Journal title\n",
       "journal of biological chemistry    1314.530\n",
       "neuroimage                         2326.430\n",
       "plos genetics                      1718.390\n",
       "plos one                            898.475\n",
       "plos pathogens                     1684.000\n",
       "Name: Cost, dtype: float64"
      ]
     },
     "execution_count": 28,
     "metadata": {},
     "output_type": "execute_result"
    }
   ],
   "source": [
    "topfive_df.groupby(['Journal title'])['Cost'].median()"
   ]
  },
  {
   "cell_type": "code",
   "execution_count": 29,
   "metadata": {},
   "outputs": [
    {
     "data": {
      "text/plain": [
       "Journal title\n",
       "journal of biological chemistry    137165.488398\n",
       "neuroimage                            266.653947\n",
       "plos genetics                      281865.707794\n",
       "plos one                           189009.511974\n",
       "plos pathogens                     322866.078569\n",
       "Name: Cost, dtype: float64"
      ]
     },
     "execution_count": 29,
     "metadata": {},
     "output_type": "execute_result"
    }
   ],
   "source": [
    "topfive_df.groupby(['Journal title'])['Cost'].std()"
   ]
  },
  {
   "cell_type": "code",
   "execution_count": null,
   "metadata": {},
   "outputs": [],
   "source": []
  }
 ],
 "metadata": {
  "kernelspec": {
   "display_name": "Python 3",
   "language": "python",
   "name": "python3"
  },
  "language_info": {
   "codemirror_mode": {
    "name": "ipython",
    "version": 3
   },
   "file_extension": ".py",
   "mimetype": "text/x-python",
   "name": "python",
   "nbconvert_exporter": "python",
   "pygments_lexer": "ipython3",
   "version": "3.6.5"
  }
 },
 "nbformat": 4,
 "nbformat_minor": 2
}
